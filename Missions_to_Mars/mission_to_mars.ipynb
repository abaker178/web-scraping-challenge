{
 "metadata": {
  "language_info": {
   "codemirror_mode": {
    "name": "ipython",
    "version": 3
   },
   "file_extension": ".py",
   "mimetype": "text/x-python",
   "name": "python",
   "nbconvert_exporter": "python",
   "pygments_lexer": "ipython3",
   "version": "3.8.3"
  },
  "orig_nbformat": 2,
  "kernelspec": {
   "name": "python3",
   "display_name": "Python 3.8.3 64-bit ('base': conda)",
   "metadata": {
    "interpreter": {
     "hash": "80c97f02d7c11e83bc363ff72acb071775dee1823dc2665fdbc0eaa45fc52472"
    }
   }
  }
 },
 "nbformat": 4,
 "nbformat_minor": 2,
 "cells": [
  {
   "source": [
    "# Mission To Mars"
   ],
   "cell_type": "markdown",
   "metadata": {}
  },
  {
   "cell_type": "code",
   "execution_count": 1,
   "metadata": {},
   "outputs": [],
   "source": [
    "# Import Dependencies\n",
    "from bs4 import BeautifulSoup as bs\n",
    "from splinter import Browser\n",
    "import pandas as pd\n",
    "from webdriver_manager.chrome import ChromeDriverManager"
   ]
  },
  {
   "cell_type": "code",
   "execution_count": 2,
   "metadata": {},
   "outputs": [
    {
     "output_type": "stream",
     "name": "stderr",
     "text": [
      "[WDM] - ====== WebDriver manager ======\n",
      "[WDM] - Current google-chrome version is 88.0.4324\n",
      "[WDM] - Get LATEST driver version for 88.0.4324\n",
      "[WDM] - Driver [C:\\Users\\AA\\.wdm\\drivers\\chromedriver\\win32\\88.0.4324.96\\chromedriver.exe] found in cache\n",
      "\n",
      "\n"
     ]
    }
   ],
   "source": [
    "# Initialize browser\n",
    "executable_path = {'executable_path': ChromeDriverManager().install()}\n",
    "browser = Browser('chrome', **executable_path, headless=False)"
   ]
  },
  {
   "cell_type": "code",
   "execution_count": 3,
   "metadata": {
    "tags": []
   },
   "outputs": [],
   "source": [
    "# Function to scrape websites\n",
    "## INPUT: URL as a string\n",
    "## OUTPUT: BeautifulSoup object with html from the scraped website\n",
    "def scrapeHTML(url):\n",
    "    browser.visit(url)\n",
    "    return bs(browser.html, \"html.parser\")"
   ]
  },
  {
   "source": [
    "## NASA Mars Website"
   ],
   "cell_type": "markdown",
   "metadata": {}
  },
  {
   "cell_type": "code",
   "execution_count": 4,
   "metadata": {},
   "outputs": [],
   "source": [
    "# Scrape NASA Mars website\n",
    "nasa_url = \"https://mars.nasa.gov/news/\"\n",
    "nasa_soup = scrapeHTML(nasa_url)"
   ]
  },
  {
   "cell_type": "code",
   "execution_count": 5,
   "metadata": {
    "tags": []
   },
   "outputs": [],
   "source": [
    "# Get the news articles list and store the first (latest) article's information\n",
    "first_article = nasa_soup.find(\"div\", class_=\"list_text\")\n",
    "news_title = first_article.find(\"div\", class_=\"content_title\").text\n",
    "news_p = first_article.find(\"div\", class_=\"article_teaser_body\").text"
   ]
  },
  {
   "source": [
    "## JPL Mars Space Image"
   ],
   "cell_type": "markdown",
   "metadata": {}
  },
  {
   "cell_type": "code",
   "execution_count": 6,
   "metadata": {},
   "outputs": [],
   "source": [
    "# Scrape JPL\n",
    "jpl_url = \"https://data-class-jpl-space.s3.amazonaws.com/JPL_Space/index.html\"\n",
    "jpl_root = \"https://data-class-jpl-space.s3.amazonaws.com/JPL_Space/\"\n",
    "jpl_soup = scrapeHTML(jpl_url)"
   ]
  },
  {
   "cell_type": "code",
   "execution_count": 7,
   "metadata": {},
   "outputs": [],
   "source": [
    "# Capture the featured image on the JPL site\n",
    "rel_path = jpl_soup.find(\"img\", class_=\"headerimage\")[\"src\"]\n",
    "featured_image_url = jpl_root + rel_path"
   ]
  },
  {
   "source": [
    "## Mars Facts"
   ],
   "cell_type": "markdown",
   "metadata": {}
  },
  {
   "cell_type": "code",
   "execution_count": 8,
   "metadata": {},
   "outputs": [],
   "source": [
    "# Scrape Mars Fact site table\n",
    "facts_url = \"https://space-facts.com/mars/\"\n",
    "facts_df = pd.read_html(facts_url)[0]"
   ]
  },
  {
   "cell_type": "code",
   "execution_count": 9,
   "metadata": {},
   "outputs": [],
   "source": [
    "# Format Table\n",
    "facts_df.set_index(0, inplace=True)\n",
    "facts_df = facts_df.rename(columns={1: \"Mars\"})\n",
    "facts_df.index.name = None\n",
    "facts_df = facts_df.style.set_table_styles([dict(selector = 'th', props=[('text-align', 'left')])])"
   ]
  },
  {
   "cell_type": "code",
   "execution_count": 10,
   "metadata": {},
   "outputs": [],
   "source": [
    "# Convert each to HTML and store the list\n",
    "facts_html = facts_df.render()"
   ]
  },
  {
   "source": [
    "## USGS Astrogeology"
   ],
   "cell_type": "markdown",
   "metadata": {}
  },
  {
   "cell_type": "code",
   "execution_count": 11,
   "metadata": {},
   "outputs": [],
   "source": [
    "# Scrape USGS Astrogeology\n",
    "usgs_url = \"https://astrogeology.usgs.gov/search/results?q=hemisphere+enhanced&k1=target&v1=Mars\"\n",
    "usgs_soup = scrapeHTML(usgs_url)"
   ]
  },
  {
   "cell_type": "code",
   "execution_count": 12,
   "metadata": {},
   "outputs": [],
   "source": [
    "# Capture links to each hemisphere page\n",
    "item_list = usgs_soup.find_all(\"a\", class_=\"itemLink\")\n",
    "title_list = []\n",
    "for item in item_list:\n",
    "    if item.text not in title_list and len(item.text) > 1:\n",
    "        title_list.append(item.text)"
   ]
  },
  {
   "cell_type": "code",
   "execution_count": 13,
   "metadata": {},
   "outputs": [],
   "source": [
    "# Navigate to each hemisphere page, scrape it, and store the full size image url\n",
    "img_list = []\n",
    "for link in title_list:\n",
    "    browser.links.find_by_partial_text(link).click()\n",
    "    img = browser.find_by_css(\".wide-image\")[\"src\"]\n",
    "    img_list.append(img)\n",
    "    browser.visit(usgs_url) # return to the main page"
   ]
  },
  {
   "cell_type": "code",
   "execution_count": 14,
   "metadata": {},
   "outputs": [],
   "source": [
    "# Iterate through the titles and image urls and create a dictionary for each\n",
    "hemisphere_image_urls = []\n",
    "for (t, i) in zip(title_list, img_list):\n",
    "    hemisphere_image_urls.append({\n",
    "        \"title\": t,\n",
    "        \"img_url\": i\n",
    "    })"
   ]
  },
  {
   "cell_type": "code",
   "execution_count": 15,
   "metadata": {},
   "outputs": [],
   "source": [
    "browser.quit()"
   ]
  },
  {
   "cell_type": "code",
   "execution_count": null,
   "metadata": {},
   "outputs": [],
   "source": []
  }
 ]
}